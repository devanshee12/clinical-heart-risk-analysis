{
  "nbformat": 4,
  "nbformat_minor": 0,
  "metadata": {
    "colab": {
      "provenance": []
    },
    "kernelspec": {
      "name": "python3",
      "display_name": "Python 3"
    },
    "language_info": {
      "name": "python"
    }
  },
  "cells": [
    {
      "cell_type": "code",
      "execution_count": null,
      "metadata": {
        "colab": {
          "base_uri": "https://localhost:8080/"
        },
        "id": "QpUVY-F-E1Kp",
        "outputId": "fc173a78-fdb9-4bc8-d2ef-58d6ce653d0c"
      },
      "outputs": [
        {
          "output_type": "stream",
          "name": "stdout",
          "text": [
            "Collecting wfdb\n",
            "  Downloading wfdb-4.3.0-py3-none-any.whl.metadata (3.8 kB)\n",
            "Collecting neurokit2\n",
            "  Downloading neurokit2-0.2.10-py2.py3-none-any.whl.metadata (37 kB)\n",
            "Requirement already satisfied: scikit-learn in /usr/local/lib/python3.11/dist-packages (1.6.1)\n",
            "Requirement already satisfied: matplotlib in /usr/local/lib/python3.11/dist-packages (3.10.0)\n",
            "Requirement already satisfied: seaborn in /usr/local/lib/python3.11/dist-packages (0.13.2)\n",
            "Requirement already satisfied: aiohttp>=3.10.11 in /usr/local/lib/python3.11/dist-packages (from wfdb) (3.11.15)\n",
            "Requirement already satisfied: fsspec>=2023.10.0 in /usr/local/lib/python3.11/dist-packages (from wfdb) (2025.3.2)\n",
            "Requirement already satisfied: numpy>=1.26.4 in /usr/local/lib/python3.11/dist-packages (from wfdb) (2.0.2)\n",
            "Collecting pandas>=2.2.3 (from wfdb)\n",
            "  Downloading pandas-2.2.3-cp311-cp311-manylinux_2_17_x86_64.manylinux2014_x86_64.whl.metadata (89 kB)\n",
            "\u001b[2K     \u001b[90m━━━━━━━━━━━━━━━━━━━━━━━━━━━━━━━━━━━━━━━━\u001b[0m \u001b[32m89.9/89.9 kB\u001b[0m \u001b[31m2.9 MB/s\u001b[0m eta \u001b[36m0:00:00\u001b[0m\n",
            "\u001b[?25hRequirement already satisfied: requests>=2.8.1 in /usr/local/lib/python3.11/dist-packages (from wfdb) (2.32.3)\n",
            "Requirement already satisfied: scipy>=1.13.0 in /usr/local/lib/python3.11/dist-packages (from wfdb) (1.14.1)\n",
            "Requirement already satisfied: soundfile>=0.10.0 in /usr/local/lib/python3.11/dist-packages (from wfdb) (0.13.1)\n",
            "Requirement already satisfied: joblib>=1.2.0 in /usr/local/lib/python3.11/dist-packages (from scikit-learn) (1.4.2)\n",
            "Requirement already satisfied: threadpoolctl>=3.1.0 in /usr/local/lib/python3.11/dist-packages (from scikit-learn) (3.6.0)\n",
            "Requirement already satisfied: contourpy>=1.0.1 in /usr/local/lib/python3.11/dist-packages (from matplotlib) (1.3.1)\n",
            "Requirement already satisfied: cycler>=0.10 in /usr/local/lib/python3.11/dist-packages (from matplotlib) (0.12.1)\n",
            "Requirement already satisfied: fonttools>=4.22.0 in /usr/local/lib/python3.11/dist-packages (from matplotlib) (4.57.0)\n",
            "Requirement already satisfied: kiwisolver>=1.3.1 in /usr/local/lib/python3.11/dist-packages (from matplotlib) (1.4.8)\n",
            "Requirement already satisfied: packaging>=20.0 in /usr/local/lib/python3.11/dist-packages (from matplotlib) (24.2)\n",
            "Requirement already satisfied: pillow>=8 in /usr/local/lib/python3.11/dist-packages (from matplotlib) (11.1.0)\n",
            "Requirement already satisfied: pyparsing>=2.3.1 in /usr/local/lib/python3.11/dist-packages (from matplotlib) (3.2.3)\n",
            "Requirement already satisfied: python-dateutil>=2.7 in /usr/local/lib/python3.11/dist-packages (from matplotlib) (2.8.2)\n",
            "Requirement already satisfied: aiohappyeyeballs>=2.3.0 in /usr/local/lib/python3.11/dist-packages (from aiohttp>=3.10.11->wfdb) (2.6.1)\n",
            "Requirement already satisfied: aiosignal>=1.1.2 in /usr/local/lib/python3.11/dist-packages (from aiohttp>=3.10.11->wfdb) (1.3.2)\n",
            "Requirement already satisfied: attrs>=17.3.0 in /usr/local/lib/python3.11/dist-packages (from aiohttp>=3.10.11->wfdb) (25.3.0)\n",
            "Requirement already satisfied: frozenlist>=1.1.1 in /usr/local/lib/python3.11/dist-packages (from aiohttp>=3.10.11->wfdb) (1.5.0)\n",
            "Requirement already satisfied: multidict<7.0,>=4.5 in /usr/local/lib/python3.11/dist-packages (from aiohttp>=3.10.11->wfdb) (6.3.2)\n",
            "Requirement already satisfied: propcache>=0.2.0 in /usr/local/lib/python3.11/dist-packages (from aiohttp>=3.10.11->wfdb) (0.3.1)\n",
            "Requirement already satisfied: yarl<2.0,>=1.17.0 in /usr/local/lib/python3.11/dist-packages (from aiohttp>=3.10.11->wfdb) (1.18.3)\n",
            "Requirement already satisfied: pytz>=2020.1 in /usr/local/lib/python3.11/dist-packages (from pandas>=2.2.3->wfdb) (2025.2)\n",
            "Requirement already satisfied: tzdata>=2022.7 in /usr/local/lib/python3.11/dist-packages (from pandas>=2.2.3->wfdb) (2025.2)\n",
            "Requirement already satisfied: six>=1.5 in /usr/local/lib/python3.11/dist-packages (from python-dateutil>=2.7->matplotlib) (1.17.0)\n",
            "Requirement already satisfied: charset-normalizer<4,>=2 in /usr/local/lib/python3.11/dist-packages (from requests>=2.8.1->wfdb) (3.4.1)\n",
            "Requirement already satisfied: idna<4,>=2.5 in /usr/local/lib/python3.11/dist-packages (from requests>=2.8.1->wfdb) (3.10)\n",
            "Requirement already satisfied: urllib3<3,>=1.21.1 in /usr/local/lib/python3.11/dist-packages (from requests>=2.8.1->wfdb) (2.3.0)\n",
            "Requirement already satisfied: certifi>=2017.4.17 in /usr/local/lib/python3.11/dist-packages (from requests>=2.8.1->wfdb) (2025.1.31)\n",
            "Requirement already satisfied: cffi>=1.0 in /usr/local/lib/python3.11/dist-packages (from soundfile>=0.10.0->wfdb) (1.17.1)\n",
            "Requirement already satisfied: pycparser in /usr/local/lib/python3.11/dist-packages (from cffi>=1.0->soundfile>=0.10.0->wfdb) (2.22)\n",
            "Downloading wfdb-4.3.0-py3-none-any.whl (163 kB)\n",
            "\u001b[2K   \u001b[90m━━━━━━━━━━━━━━━━━━━━━━━━━━━━━━━━━━━━━━━━\u001b[0m \u001b[32m163.8/163.8 kB\u001b[0m \u001b[31m2.4 MB/s\u001b[0m eta \u001b[36m0:00:00\u001b[0m\n",
            "\u001b[?25hDownloading neurokit2-0.2.10-py2.py3-none-any.whl (693 kB)\n",
            "\u001b[2K   \u001b[90m━━━━━━━━━━━━━━━━━━━━━━━━━━━━━━━━━━━━━━━━\u001b[0m \u001b[32m693.1/693.1 kB\u001b[0m \u001b[31m18.6 MB/s\u001b[0m eta \u001b[36m0:00:00\u001b[0m\n",
            "\u001b[?25hDownloading pandas-2.2.3-cp311-cp311-manylinux_2_17_x86_64.manylinux2014_x86_64.whl (13.1 MB)\n",
            "\u001b[2K   \u001b[90m━━━━━━━━━━━━━━━━━━━━━━━━━━━━━━━━━━━━━━━━\u001b[0m \u001b[32m13.1/13.1 MB\u001b[0m \u001b[31m30.5 MB/s\u001b[0m eta \u001b[36m0:00:00\u001b[0m\n",
            "\u001b[?25hInstalling collected packages: pandas, wfdb, neurokit2\n",
            "  Attempting uninstall: pandas\n",
            "    Found existing installation: pandas 2.2.2\n",
            "    Uninstalling pandas-2.2.2:\n",
            "      Successfully uninstalled pandas-2.2.2\n",
            "\u001b[31mERROR: pip's dependency resolver does not currently take into account all the packages that are installed. This behaviour is the source of the following dependency conflicts.\n",
            "google-colab 1.0.0 requires pandas==2.2.2, but you have pandas 2.2.3 which is incompatible.\u001b[0m\u001b[31m\n",
            "\u001b[0mSuccessfully installed neurokit2-0.2.10 pandas-2.2.3 wfdb-4.3.0\n"
          ]
        }
      ],
      "source": [
        "!pip install wfdb neurokit2 scikit-learn matplotlib seaborn\n"
      ]
    },
    {
      "cell_type": "code",
      "source": [
        "import wfdb\n",
        "\n",
        "# Step 1: Download record '100' from MIT-BIH to local Colab storage\n",
        "wfdb.dl_database('mitdb', dl_dir='mitdb', records=['100'])\n",
        "\n",
        "# Step 2: Load the record and annotations from the downloaded folder\n",
        "record = wfdb.rdrecord('mitdb/100')\n",
        "annotation = wfdb.rdann('mitdb/100', 'atr')\n",
        "\n",
        "# Step 3: Plot to confirm\n",
        "wfdb.plot_wfdb(record=record, annotation=annotation, title='ECG Record 100')\n"
      ],
      "metadata": {
        "colab": {
          "base_uri": "https://localhost:8080/",
          "height": 561
        },
        "id": "upVGuPnhFj_i",
        "outputId": "f3a3f9d8-53c5-401b-9708-9c97e71be2d8"
      },
      "execution_count": null,
      "outputs": [
        {
          "output_type": "stream",
          "name": "stdout",
          "text": [
            "Generating record list for: 100\n",
            "Generating list of all files for: 100\n",
            "Created local base download directory: mitdb\n",
            "Downloading files...\n",
            "Finished downloading files\n"
          ]
        },
        {
          "output_type": "display_data",
          "data": {
            "text/plain": [
              "<Figure size 640x480 with 2 Axes>"
            ],
            "image/png": "[encoded data removed]"
          },
          "metadata": {}
        }
      ]
    },
    {
      "cell_type": "code",
      "source": [
        "import numpy as np\n",
        "from scipy.signal import butter, filtfilt\n",
        "\n",
        "# Step 1: Extract the ECG signal (lead 1)\n",
        "ecg_signal = record.p_signal[:, 0]\n",
        "\n",
        "# Step 2: Bandpass filter (0.5 – 45 Hz)\n",
        "def bandpass_filter(signal, lowcut=0.5, highcut=45.0, fs=360, order=2):\n",
        "    nyq = 0.5 * fs\n",
        "    low = lowcut / nyq\n",
        "    high = highcut / nyq\n",
        "    b, a = butter(order, [low, high], btype='band')\n",
        "    return filtfilt(b, a, signal)\n",
        "\n",
        "filtered_ecg = bandpass_filter(ecg_signal)\n",
        "\n",
        "# Step 3: Normalize\n",
        "def normalize(signal):\n",
        "    return (signal - np.mean(signal)) / np.std(signal)\n",
        "\n",
        "normalized_ecg = normalize(filtered_ecg)\n"
      ],
      "metadata": {
        "id": "S2WrlrCtF2Ov"
      },
      "execution_count": null,
      "outputs": []
    },
    {
      "cell_type": "code",
      "source": [
        "import neurokit2 as nk\n",
        "\n",
        "# Step 1: Process ECG with neurokit2\n",
        "signals, info = nk.ecg_process(normalized_ecg, sampling_rate=360)\n",
        "\n",
        "# Step 2: Extract interval-related features\n",
        "features = nk.ecg_intervalrelated(signals)\n",
        "features.head()\n"
      ],
      "metadata": {
        "colab": {
          "base_uri": "https://localhost:8080/",
          "height": 130
        },
        "id": "EzUjb2hTF9sA",
        "outputId": "4bda18e1-c7a3-4755-f7b4-5d00189f326a"
      },
      "execution_count": null,
      "outputs": [
        {
          "output_type": "execute_result",
          "data": {
            "text/plain": [
              "  ECG_Rate_Mean              HRV_MeanNN                HRV_SDNN  \\\n",
              "0     75.523892  [[286.06299559471364]]  [[13.575539789537926]]   \n",
              "\n",
              "              HRV_SDANN1              HRV_SDNNI1             HRV_SDANN2  \\\n",
              "0  [[6.345291267570103]]  [[11.977767589360822]]  [[5.476710620222688]]   \n",
              "\n",
              "               HRV_SDNNI2 HRV_SDANN5 HRV_SDNNI5               HRV_RMSSD  ...  \\\n",
              "0  [[12.331177679550024]]    [[nan]]    [[nan]]  [[11.546502831304318]]  ...   \n",
              "\n",
              "               HRV_SampEn              HRV_ShanEn             HRV_FuzzyEn  \\\n",
              "0  [[1.8428632935423488]]  [[5.7531236281893845]]  [[1.2769485174569633]]   \n",
              "\n",
              "                HRV_MSEn               HRV_CMSEn             HRV_RCMSEn  \\\n",
              "0  [[1.005296338562641]]  [[1.3772333096023532]]  [[2.176223043173414]]   \n",
              "\n",
              "                   HRV_CD                 HRV_HFD                HRV_KFD  \\\n",
              "0  [[1.7450820355967216]]  [[1.9651844018468048]]  [[4.055257503512329]]   \n",
              "\n",
              "                  HRV_LZC  \n",
              "0  [[0.7612395904130542]]  \n",
              "\n",
              "[1 rows x 92 columns]"
            ],
            "text/html": [
              "\n",
              "  <div id=\"df-650e38a9-a672-425e-83a5-c01dd1a4cd13\" class=\"colab-df-container\">\n",
              "    <div>\n",
              "<style scoped>\n",
              "    .dataframe tbody tr th:only-of-type {\n",
              "        vertical-align: middle;\n",
              "    }\n",
              "\n",
              "    .dataframe tbody tr th {\n",
              "        vertical-align: top;\n",
              "    }\n",
              "\n",
              "    .dataframe thead th {\n",
              "        text-align: right;\n",
              "    }\n",
              "</style>\n",
              "<table border=\"1\" class=\"dataframe\">\n",
              "  <thead>\n",
              "    <tr style=\"text-align: right;\">\n",
              "      <th></th>\n",
              "      <th>ECG_Rate_Mean</th>\n",
              "      <th>HRV_MeanNN</th>\n",
              "      <th>HRV_SDNN</th>\n",
              "      <th>HRV_SDANN1</th>\n",
              "      <th>HRV_SDNNI1</th>\n",
              "      <th>HRV_SDANN2</th>\n",
              "      <th>HRV_SDNNI2</th>\n",
              "      <th>HRV_SDANN5</th>\n",
              "      <th>HRV_SDNNI5</th>\n",
              "      <th>HRV_RMSSD</th>\n",
              "      <th>...</th>\n",
              "      <th>HRV_SampEn</th>\n",
              "      <th>HRV_ShanEn</th>\n",
              "      <th>HRV_FuzzyEn</th>\n",
              "      <th>HRV_MSEn</th>\n",
              "      <th>HRV_CMSEn</th>\n",
              "      <th>HRV_RCMSEn</th>\n",
              "      <th>HRV_CD</th>\n",
              "      <th>HRV_HFD</th>\n",
              "      <th>HRV_KFD</th>\n",
              "      <th>HRV_LZC</th>\n",
              "    </tr>\n",
              "  </thead>\n",
              "  <tbody>\n",
              "    <tr>\n",
              "      <th>0</th>\n",
              "      <td>75.523892</td>\n",
              "      <td>[[286.06299559471364]]</td>\n",
              "      <td>[[13.575539789537926]]</td>\n",
              "      <td>[[6.345291267570103]]</td>\n",
              "      <td>[[11.977767589360822]]</td>\n",
              "      <td>[[5.476710620222688]]</td>\n",
              "      <td>[[12.331177679550024]]</td>\n",
              "      <td>[[nan]]</td>\n",
              "      <td>[[nan]]</td>\n",
              "      <td>[[11.546502831304318]]</td>\n",
              "      <td>...</td>\n",
              "      <td>[[1.8428632935423488]]</td>\n",
              "      <td>[[5.7531236281893845]]</td>\n",
              "      <td>[[1.2769485174569633]]</td>\n",
              "      <td>[[1.005296338562641]]</td>\n",
              "      <td>[[1.3772333096023532]]</td>\n",
              "      <td>[[2.176223043173414]]</td>\n",
              "      <td>[[1.7450820355967216]]</td>\n",
              "      <td>[[1.9651844018468048]]</td>\n",
              "      <td>[[4.055257503512329]]</td>\n",
              "      <td>[[0.7612395904130542]]</td>\n",
              "    </tr>\n",
              "  </tbody>\n",
              "</table>\n",
              "<p>1 rows × 92 columns</p>\n",
              "</div>\n",
              "    <div class=\"colab-df-buttons\">\n",
              "\n",
              "  <div class=\"colab-df-container\">\n",
              "    <button class=\"colab-df-convert\" onclick=\"convertToInteractive('df-650e38a9-a672-425e-83a5-c01dd1a4cd13')\"\n",
              "            title=\"Convert this dataframe to an interactive table.\"\n",
              "            style=\"display:none;\">\n",
              "\n",
              "  <svg xmlns=\"http://www.w3.org/2000/svg\" height=\"24px\" viewBox=\"0 -960 960 960\">\n",
              "    <path d=\"M120-120v-720h720v720H120Zm60-500h600v-160H180v160Zm220 220h160v-160H400v160Zm0 220h160v-160H400v160ZM180-400h160v-160H180v160Zm440 0h160v-160H620v160ZM180-180h160v-160H180v160Zm440 0h160v-160H620v160Z\"/>\n",
              "  </svg>\n",
              "    </button>\n",
              "\n",
              "  <style>\n",
              "    .colab-df-container {\n",
              "      display:flex;\n",
              "      gap: 12px;\n",
              "    }\n",
              "\n",
              "    .colab-df-convert {\n",
              "      background-color: #E8F0FE;\n",
              "      border: none;\n",
              "      border-radius: 50%;\n",
              "      cursor: pointer;\n",
              "      display: none;\n",
              "      fill: #1967D2;\n",
              "      height: 32px;\n",
              "      padding: 0 0 0 0;\n",
              "      width: 32px;\n",
              "    }\n",
              "\n",
              "    .colab-df-convert:hover {\n",
              "      background-color: #E2EBFA;\n",
              "      box-shadow: 0px 1px 2px rgba(60, 64, 67, 0.3), 0px 1px 3px 1px rgba(60, 64, 67, 0.15);\n",
              "      fill: #174EA6;\n",
              "    }\n",
              "\n",
              "    .colab-df-buttons div {\n",
              "      margin-bottom: 4px;\n",
              "    }\n",
              "\n",
              "    [theme=dark] .colab-df-convert {\n",
              "      background-color: #3B4455;\n",
              "      fill: #D2E3FC;\n",
              "    }\n",
              "\n",
              "    [theme=dark] .colab-df-convert:hover {\n",
              "      background-color: #434B5C;\n",
              "      box-shadow: 0px 1px 3px 1px rgba(0, 0, 0, 0.15);\n",
              "      filter: drop-shadow(0px 1px 2px rgba(0, 0, 0, 0.3));\n",
              "      fill: #FFFFFF;\n",
              "    }\n",
              "  </style>\n",
              "\n",
              "    <script>\n",
              "      const buttonEl =\n",
              "        document.querySelector('#df-650e38a9-a672-425e-83a5-c01dd1a4cd13 button.colab-df-convert');\n",
              "      buttonEl.style.display =\n",
              "        google.colab.kernel.accessAllowed ? 'block' : 'none';\n",
              "\n",
              "      async function convertToInteractive(key) {\n",
              "        const element = document.querySelector('#df-650e38a9-a672-425e-83a5-c01dd1a4cd13');\n",
              "        const dataTable =\n",
              "          await google.colab.kernel.invokeFunction('convertToInteractive',\n",
              "                                                    [key], {});\n",
              "        if (!dataTable) return;\n",
              "\n",
              "        const docLinkHtml = 'Like what you see? Visit the ' +\n",
              "          '<a target=\"_blank\" href=https://colab.research.google.com/notebooks/data_table.ipynb>data table notebook</a>'\n",
              "          + ' to learn more about interactive tables.';\n",
              "        element.innerHTML = '';\n",
              "        dataTable['output_type'] = 'display_data';\n",
              "        await google.colab.output.renderOutput(dataTable, element);\n",
              "        const docLink = document.createElement('div');\n",
              "        docLink.innerHTML = docLinkHtml;\n",
              "        element.appendChild(docLink);\n",
              "      }\n",
              "    </script>\n",
              "  </div>\n",
              "\n",
              "\n",
              "    </div>\n",
              "  </div>\n"
            ],
            "application/vnd.google.colaboratory.intrinsic+json": {
              "type": "dataframe",
              "variable_name": "features"
            }
          },
          "metadata": {},
          "execution_count": 6
        }
      ]
    },
    {
      "cell_type": "code",
      "source": [
        "# Step 1: Use annotation.symbol to label each beat as normal or arrhythmia\n",
        "normal_classes = ['N', 'L', 'R']\n",
        "abnormal_classes = ['V', 'A', 'E', 'F']\n",
        "\n",
        "labels = []\n",
        "r_peaks = info['ECG_R_Peaks']  # Correct R-peak indices from NeuroKit\n",
        "\n",
        "for idx in r_peaks:\n",
        "    # Find the nearest annotation\n",
        "    nearest = np.argmin(np.abs(annotation.sample - idx))\n",
        "    sym = annotation.symbol[nearest]\n",
        "\n",
        "    if sym in normal_classes:\n",
        "        labels.append(0)  # Normal\n",
        "    elif sym in abnormal_classes:\n",
        "        labels.append(1)  # Arrhythmia\n",
        "    else:\n",
        "        labels.append(None)  # Skip others\n"
      ],
      "metadata": {
        "id": "YSvGPpM8GTnZ"
      },
      "execution_count": null,
      "outputs": []
    },
    {
      "cell_type": "code",
      "source": [
        "# Step 1: Get R-peak indices detected by NeuroKit\n",
        "r_peaks = info['ECG_R_Peaks']\n",
        "\n",
        "# Step 2: ECG features per beat (already done)\n",
        "# features = nk.ecg_intervalrelated(signals)\n",
        "\n",
        "# Step 3: Match features to labels (length must match number of rows in `features`)\n",
        "# We assume each row in `features` corresponds to one R-peak\n",
        "\n",
        "labels = []\n",
        "\n",
        "# For each R-peak that made it into features\n",
        "for idx in r_peaks[:len(features)]:\n",
        "    # Find the closest annotation to this R-peak\n",
        "    nearest = np.argmin(np.abs(annotation.sample - idx))\n",
        "    sym = annotation.symbol[nearest]\n",
        "\n",
        "    if sym in ['N', 'L', 'R']:       # Normal beats\n",
        "        labels.append(0)\n",
        "    elif sym in ['V', 'A', 'E', 'F']:  # Arrhythmias\n",
        "        labels.append(1)\n",
        "    else:\n",
        "        labels.append(None)\n",
        "\n",
        "# Step 4: Keep only features with valid labels\n",
        "valid_indices = [i for i, l in enumerate(labels) if l is not None]\n",
        "X = features.iloc[valid_indices].values\n",
        "y = np.array([labels[i] for i in valid_indices])\n"
      ],
      "metadata": {
        "id": "OypW71FqG1m5"
      },
      "execution_count": null,
      "outputs": []
    },
    {
      "cell_type": "code",
      "source": [
        "# Check the feature matrix and labels\n",
        "print(\"Total number of extracted features:\", len(features))\n",
        "print(\"Total number of valid labels:\", len([l for l in labels if l is not None]))\n"
      ],
      "metadata": {
        "colab": {
          "base_uri": "https://localhost:8080/"
        },
        "id": "_8b-OnOlILg8",
        "outputId": "f254f87e-bb18-44c0-8b35-29e5558c0f85"
      },
      "execution_count": null,
      "outputs": [
        {
          "output_type": "stream",
          "name": "stdout",
          "text": [
            "Total number of extracted features: 1\n",
            "Total number of valid labels: 1\n"
          ]
        }
      ]
    },
    {
      "cell_type": "code",
      "source": [
        "# Create a list of labels (0: normal, 1: arrhythmia)\n",
        "labels = []\n",
        "\n",
        "for idx in r_peaks[:len(features)]:  # Ensure we only consider as many R-peaks as there are features\n",
        "    nearest = np.argmin(np.abs(annotation.sample - idx))\n",
        "    sym = annotation.symbol[nearest]\n",
        "\n",
        "    # Assign label: 0 for normal, 1 for arrhythmia\n",
        "    if sym in ['N', 'L', 'R']:  # Normal beats\n",
        "        labels.append(0)\n",
        "    elif sym in ['V', 'A', 'E', 'F']:  # Arrhythmias\n",
        "        labels.append(1)\n",
        "    else:\n",
        "        labels.append(None)  # Skip other types\n",
        "\n",
        "# Make sure we only keep valid labels\n",
        "valid_indices = [i for i, l in enumerate(labels) if l is not None]\n",
        "X_valid = features.iloc[valid_indices].values\n",
        "y_valid = np.array([labels[i] for i in valid_indices])\n",
        "\n",
        "# Debug output to confirm the sizes\n",
        "print(\"Valid samples - X:\", X_valid.shape)\n",
        "print(\"Valid samples - y:\", y_valid.shape)\n"
      ],
      "metadata": {
        "colab": {
          "base_uri": "https://localhost:8080/"
        },
        "id": "4wwIOc6QINKK",
        "outputId": "8424cb03-b5c7-42d6-99e3-21fb568a8278"
      },
      "execution_count": null,
      "outputs": [
        {
          "output_type": "stream",
          "name": "stdout",
          "text": [
            "Valid samples - X: (1, 92)\n",
            "Valid samples - y: (1,)\n"
          ]
        }
      ]
    },
    {
      "cell_type": "code",
      "source": [
        "print(\"Shape of X_valid:\", X_valid.shape)\n",
        "print(\"Shape of y_valid:\", len(y_valid))\n"
      ],
      "metadata": {
        "colab": {
          "base_uri": "https://localhost:8080/"
        },
        "id": "_wSZsytDIeja",
        "outputId": "3d0e54e8-0b43-4c98-98ed-392a3e1c9204"
      },
      "execution_count": null,
      "outputs": [
        {
          "output_type": "stream",
          "name": "stdout",
          "text": [
            "Shape of X_valid: (1, 92)\n",
            "Shape of y_valid: 1\n"
          ]
        }
      ]
    },
    {
      "cell_type": "code",
      "source": [
        "# Check if we have valid feature and label data\n",
        "valid_indices = [i for i, l in enumerate(labels) if l is not None]\n",
        "X_valid = features.iloc[valid_indices].values\n",
        "y_valid = np.array([labels[i] for i in valid_indices])\n",
        "\n",
        "# Debug prints to check how many valid data points we have\n",
        "print(f\"Total number of valid features (X_valid): {X_valid.shape[0]}\")\n",
        "print(f\"Total number of valid labels (y_valid): {len(y_valid)}\")\n",
        "\n",
        "# Check the first few feature values (Optional for better understanding)\n",
        "print(\"Sample features:\", X_valid[:5])\n"
      ],
      "metadata": {
        "colab": {
          "base_uri": "https://localhost:8080/"
        },
        "id": "qVY1KfPTIwss",
        "outputId": "07a156d0-6018-411e-bd50-d32e0289beb5"
      },
      "execution_count": null,
      "outputs": [
        {
          "output_type": "stream",
          "name": "stdout",
          "text": [
            "Total number of valid features (X_valid): 1\n",
            "Total number of valid labels (y_valid): 1\n",
            "Sample features: [[np.float64(75.52389171024667) array([[286.06299559]])\n",
            "  array([[13.57553979]]) array([[6.34529127]]) array([[11.97776759]])\n",
            "  array([[5.47671062]]) array([[12.33117768]]) array([[nan]])\n",
            "  array([[nan]]) array([[11.54650283]]) array([[11.54903252]])\n",
            "  array([[0.04745647]]) array([[0.0403635]]) array([[287.]])\n",
            "  array([[13.3434]]) array([[0.04649268]]) array([[18.]])\n",
            "  array([[1.1757274]]) array([[276.]]) array([[298.]])\n",
            "  array([[0.4845815]]) array([[6.12334802]]) array([[235.]])\n",
            "  array([[335.]]) array([[4.14990859]]) array([[0.]]) array([[nan]])\n",
            "  array([[0.00194464]]) array([[0.00235767]]) array([[0.00062574]])\n",
            "  array([[0.00525309]]) array([[0.01018114]]) array([[3.76781393]])\n",
            "  array([[0.2315721]]) array([[0.0614606]]) array([[-7.37657707]])\n",
            "  array([[8.16639921]]) array([[17.36207116]]) array([[0.47035858]])\n",
            "  array([[445.43261269]]) array([[2.12603752]]) array([[3.35575212]])\n",
            "  array([[147.64965916]]) array([[0.52334802]]) array([[0.49976798]])\n",
            "  array([[0.70009285]]) array([[0.10327869]]) array([[49.88824783]])\n",
            "  array([[49.87353781]]) array([[49.90300278]]) array([[48.95591647]])\n",
            "  array([[0.52948196]]) array([[0.47051804]]) array([[5.94233014]])\n",
            "  array([[5.60169334]]) array([[0.52204596]]) array([[0.47795404]])\n",
            "  array([[12.54457348]]) array([[12.00313256]]) array([[0.52339305]])\n",
            "  array([[0.47660695]]) array([[9.81523335]]) array([[9.36627352]])\n",
            "  array([[0.88673166]]) array([[3.11696925]]) array([[1.25516738]])\n",
            "  array([[1.82105451]]) array([[-2.73176258]]) array([[-2.12583137]])\n",
            "  array([[-0.31844956]]) array([[0.00176282]]) array([[0.51855125]])\n",
            "  array([[0.8533175]]) array([[0.33169601]]) array([[0.55484076]])\n",
            "  array([[0.72068877]]) array([[1.06643855]]) array([[-0.26999745]])\n",
            "  array([[0.]]) array([[5.8471939e-05]]) array([[0.00855206]])\n",
            "  array([[1.70649289]]) array([[1.84286329]]) array([[5.75312363]])\n",
            "  array([[1.27694852]]) array([[1.00529634]]) array([[1.37723331]])\n",
            "  array([[2.17622304]]) array([[1.74508204]]) array([[1.9651844]])\n",
            "  array([[4.0552575]]) array([[0.76123959]])]]\n"
          ]
        }
      ]
    },
    {
      "cell_type": "code",
      "source": [
        "if len(X_valid) < 2:\n",
        "    print(f\"Warning: Too few valid data samples: {len(X_valid)}. Feature extraction or label assignment might need adjustment.\")\n",
        "else:\n",
        "    print(\"Proceeding with train-test split...\")\n"
      ],
      "metadata": {
        "colab": {
          "base_uri": "https://localhost:8080/"
        },
        "id": "DWS-Yj9PIySz",
        "outputId": "3729d9ec-3ab2-4e89-edc2-3bf3d9949885"
      },
      "execution_count": null,
      "outputs": [
        {
          "output_type": "stream",
          "name": "stdout",
          "text": [
            "Warning: Too few valid data samples: 1. Feature extraction or label assignment might need adjustment.\n"
          ]
        }
      ]
    },
    {
      "cell_type": "code",
      "source": [
        "print(\"Raw features data:\")\n",
        "print(features.head())  # Display the first few rows to understand its structure\n",
        "\n",
        "# Check the total number of features\n",
        "print(\"Total features extracted:\", features.shape[0])\n"
      ],
      "metadata": {
        "colab": {
          "base_uri": "https://localhost:8080/"
        },
        "id": "8RQsNpMhI2MC",
        "outputId": "704e6bed-53b7-49b6-af2b-d2d628f5235a"
      },
      "execution_count": null,
      "outputs": [
        {
          "output_type": "stream",
          "name": "stdout",
          "text": [
            "Raw features data:\n",
            "  ECG_Rate_Mean              HRV_MeanNN                HRV_SDNN  \\\n",
            "0     75.523892  [[286.06299559471364]]  [[13.575539789537926]]   \n",
            "\n",
            "              HRV_SDANN1              HRV_SDNNI1             HRV_SDANN2  \\\n",
            "0  [[6.345291267570103]]  [[11.977767589360822]]  [[5.476710620222688]]   \n",
            "\n",
            "               HRV_SDNNI2 HRV_SDANN5 HRV_SDNNI5               HRV_RMSSD  ...  \\\n",
            "0  [[12.331177679550024]]    [[nan]]    [[nan]]  [[11.546502831304318]]  ...   \n",
            "\n",
            "               HRV_SampEn              HRV_ShanEn             HRV_FuzzyEn  \\\n",
            "0  [[1.8428632935423488]]  [[5.7531236281893845]]  [[1.2769485174569633]]   \n",
            "\n",
            "                HRV_MSEn               HRV_CMSEn             HRV_RCMSEn  \\\n",
            "0  [[1.005296338562641]]  [[1.3772333096023532]]  [[2.176223043173414]]   \n",
            "\n",
            "                   HRV_CD                 HRV_HFD                HRV_KFD  \\\n",
            "0  [[1.7450820355967216]]  [[1.9651844018468048]]  [[4.055257503512329]]   \n",
            "\n",
            "                  HRV_LZC  \n",
            "0  [[0.7612395904130542]]  \n",
            "\n",
            "[1 rows x 92 columns]\n",
            "Total features extracted: 1\n"
          ]
        }
      ]
    },
    {
      "cell_type": "code",
      "source": [
        "# Try with dummy data for debugging (replace this with actual extracted features later)\n",
        "X_valid_dummy = np.random.rand(100, 5)  # 100 samples, 5 features\n",
        "y_valid_dummy = np.random.randint(0, 2, size=100)  # Random labels (0 or 1)\n",
        "\n",
        "# Now try splitting this dummy data\n",
        "X_train, X_test, y_train, y_test = train_test_split(X_valid_dummy, y_valid_dummy, test_size=0.3, random_state=42)\n",
        "print(f\"Training samples: {X_train.shape[0]}, Test samples: {X_test.shape[0]}\")\n"
      ],
      "metadata": {
        "colab": {
          "base_uri": "https://localhost:8080/"
        },
        "id": "cJWbxa_LI4Xq",
        "outputId": "b032edfd-1f22-42e2-98e0-049f35007930"
      },
      "execution_count": null,
      "outputs": [
        {
          "output_type": "stream",
          "name": "stdout",
          "text": [
            "Training samples: 70, Test samples: 30\n"
          ]
        }
      ]
    },
    {
      "cell_type": "code",
      "source": [
        "from sklearn.ensemble import RandomForestClassifier\n",
        "\n",
        "# Initialize the Random Forest Classifier\n",
        "clf = RandomForestClassifier(n_estimators=100, random_state=42)\n",
        "\n",
        "# Train the model using the training data\n",
        "clf.fit(X_train, y_train)\n",
        "\n",
        "# Make predictions on the test set\n",
        "y_pred = clf.predict(X_test)\n",
        "\n",
        "# Print the predictions\n",
        "print(\"Predicted labels:\", y_pred)\n"
      ],
      "metadata": {
        "colab": {
          "base_uri": "https://localhost:8080/"
        },
        "id": "0B3rLLEaI619",
        "outputId": "c45649f3-f1f7-4ad2-9e1a-63dd0a3404e1"
      },
      "execution_count": null,
      "outputs": [
        {
          "output_type": "stream",
          "name": "stdout",
          "text": [
            "Predicted labels: [0 0 0 0 0 1 1 0 1 0 0 0 0 0 0 0 1 0 0 1 0 0 0 0 0 0 0 1 1 1]\n"
          ]
        }
      ]
    },
    {
      "cell_type": "code",
      "source": [
        "from sklearn.metrics import confusion_matrix, accuracy_score, f1_score\n",
        "\n",
        "# Accuracy\n",
        "accuracy = accuracy_score(y_test, y_pred)\n",
        "print(f\"Accuracy: {accuracy * 100:.2f}%\")\n",
        "\n",
        "# Confusion Matrix\n",
        "conf_matrix = confusion_matrix(y_test, y_pred)\n",
        "print(\"Confusion Matrix:\")\n",
        "print(conf_matrix)\n",
        "\n",
        "# F1-Score\n",
        "f1 = f1_score(y_test, y_pred)\n",
        "print(f\"F1-Score: {f1:.2f}\")\n"
      ],
      "metadata": {
        "colab": {
          "base_uri": "https://localhost:8080/"
        },
        "id": "Yu9LAfq-JHYC",
        "outputId": "4694368b-0703-4997-f0f9-0ea64729570a"
      },
      "execution_count": null,
      "outputs": [
        {
          "output_type": "stream",
          "name": "stdout",
          "text": [
            "Accuracy: 43.33%\n",
            "Confusion Matrix:\n",
            "[[10  5]\n",
            " [12  3]]\n",
            "F1-Score: 0.26\n"
          ]
        }
      ]
    },
    {
      "cell_type": "code",
      "source": [
        "import matplotlib.pyplot as plt\n",
        "import seaborn as sns\n",
        "\n",
        "# Plot confusion matrix\n",
        "sns.heatmap(conf_matrix, annot=True, fmt=\"d\", cmap=\"Blues\", xticklabels=[\"Normal\", \"Arrhythmia\"], yticklabels=[\"Normal\", \"Arrhythmia\"])\n",
        "plt.xlabel(\"Predicted\")\n",
        "plt.ylabel(\"Actual\")\n",
        "plt.title(\"Confusion Matrix\")\n",
        "plt.show()\n"
      ],
      "metadata": {
        "id": "3lMyTThcJJyu",
        "outputId": "5196d43a-baa1-46fb-be5c-e497dc3de115",
        "colab": {
          "base_uri": "https://localhost:8080/",
          "height": 472
        }
      },
      "execution_count": null,
      "outputs": [
        {
          "output_type": "display_data",
          "data": {
            "text/plain": [
              "<Figure size 640x480 with 2 Axes>"
            ],
            "image/png": "[encoded data removed]"
          },
          "metadata": {}
        }
      ]
    }
  ]
}